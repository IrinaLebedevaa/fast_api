{
 "cells": [
  {
   "cell_type": "code",
   "id": "initial_id",
   "metadata": {
    "collapsed": true,
    "ExecuteTime": {
     "end_time": "2025-07-31T10:22:00.721206Z",
     "start_time": "2025-07-31T10:21:59.183624Z"
    }
   },
   "source": [
    "import numpy as np\n",
    "import pandas as pd"
   ],
   "outputs": [],
   "execution_count": 1
  },
  {
   "metadata": {
    "ExecuteTime": {
     "end_time": "2025-07-31T10:23:22.912934Z",
     "start_time": "2025-07-31T10:23:22.903673Z"
    }
   },
   "cell_type": "code",
   "source": [
    "data = [\n",
    "    {'Time_spent_Alone': 5, \n",
    "     'Stage_fear': 0, \n",
    "     'Social_event_attendance': 3, \n",
    "     'Going_outside': 6, \n",
    "     'Drained_after_socializing': 0,\n",
    "     'Friends_circle_size':5, \n",
    "     'Post_frequency':6}\n",
    "]\n",
    "\n",
    "df = pd.DataFrame(data)\n",
    "print(df)"
   ],
   "id": "d4929a62a1e2d69",
   "outputs": [
    {
     "name": "stdout",
     "output_type": "stream",
     "text": [
      "   Time_spent_Alone  Stage_fear  Social_event_attendance  Going_outside  \\\n",
      "0                 5           0                        3              6   \n",
      "\n",
      "   Drained_after_socializing  Friends_circle_size  Post_frequency  \n",
      "0                          0                    5               6  \n"
     ]
    }
   ],
   "execution_count": 2
  },
  {
   "metadata": {},
   "cell_type": "code",
   "outputs": [],
   "execution_count": null,
   "source": [
    "df['Stage_fear'] = pd.get_dummies(df['Stage_fear'], drop_first=True)\n",
    "df['Drained_after_socializing'] = pd.get_dummies(df['Drained_after_socializing'], drop_first=True)"
   ],
   "id": "c0bb91441f3f4ee5"
  },
  {
   "metadata": {
    "ExecuteTime": {
     "end_time": "2025-07-31T10:23:36.641285Z",
     "start_time": "2025-07-31T10:23:28.598023Z"
    }
   },
   "cell_type": "code",
   "source": [
    "import joblib\n",
    "# Загружаем модель из файла\n",
    "model = joblib.load('model_logicticregr.pkl')\n",
    "\n",
    "# Получаем вероятности по каждому классу\n",
    "predict = model.predict(df)\n",
    "df['Personality'] = predict"
   ],
   "id": "26a6b9c54db41f42",
   "outputs": [
    {
     "name": "stderr",
     "output_type": "stream",
     "text": [
      "C:\\Users\\user\\PycharmProjects\\FastApi1\\.venv\\Lib\\site-packages\\sklearn\\base.py:442: InconsistentVersionWarning: Trying to unpickle estimator LogisticRegression from version 1.7.0 when using version 1.7.1. This might lead to breaking code or invalid results. Use at your own risk. For more info please refer to:\n",
      "https://scikit-learn.org/stable/model_persistence.html#security-maintainability-limitations\n",
      "  warnings.warn(\n"
     ]
    }
   ],
   "execution_count": 3
  },
  {
   "metadata": {
    "ExecuteTime": {
     "end_time": "2025-07-31T10:23:42.523503Z",
     "start_time": "2025-07-31T10:23:42.513372Z"
    }
   },
   "cell_type": "code",
   "source": "df",
   "id": "13b4bfa6a8837e53",
   "outputs": [
    {
     "data": {
      "text/plain": [
       "   Time_spent_Alone  Stage_fear  Social_event_attendance  Going_outside  \\\n",
       "0                 5           0                        3              6   \n",
       "\n",
       "   Drained_after_socializing  Friends_circle_size  Post_frequency  Personality  \n",
       "0                          0                    5               6        False  "
      ],
      "text/html": [
       "<div>\n",
       "<style scoped>\n",
       "    .dataframe tbody tr th:only-of-type {\n",
       "        vertical-align: middle;\n",
       "    }\n",
       "\n",
       "    .dataframe tbody tr th {\n",
       "        vertical-align: top;\n",
       "    }\n",
       "\n",
       "    .dataframe thead th {\n",
       "        text-align: right;\n",
       "    }\n",
       "</style>\n",
       "<table border=\"1\" class=\"dataframe\">\n",
       "  <thead>\n",
       "    <tr style=\"text-align: right;\">\n",
       "      <th></th>\n",
       "      <th>Time_spent_Alone</th>\n",
       "      <th>Stage_fear</th>\n",
       "      <th>Social_event_attendance</th>\n",
       "      <th>Going_outside</th>\n",
       "      <th>Drained_after_socializing</th>\n",
       "      <th>Friends_circle_size</th>\n",
       "      <th>Post_frequency</th>\n",
       "      <th>Personality</th>\n",
       "    </tr>\n",
       "  </thead>\n",
       "  <tbody>\n",
       "    <tr>\n",
       "      <th>0</th>\n",
       "      <td>5</td>\n",
       "      <td>0</td>\n",
       "      <td>3</td>\n",
       "      <td>6</td>\n",
       "      <td>0</td>\n",
       "      <td>5</td>\n",
       "      <td>6</td>\n",
       "      <td>False</td>\n",
       "    </tr>\n",
       "  </tbody>\n",
       "</table>\n",
       "</div>"
      ]
     },
     "execution_count": 4,
     "metadata": {},
     "output_type": "execute_result"
    }
   ],
   "execution_count": 4
  }
 ],
 "metadata": {
  "kernelspec": {
   "display_name": "Python 3",
   "language": "python",
   "name": "python3"
  },
  "language_info": {
   "codemirror_mode": {
    "name": "ipython",
    "version": 2
   },
   "file_extension": ".py",
   "mimetype": "text/x-python",
   "name": "python",
   "nbconvert_exporter": "python",
   "pygments_lexer": "ipython2",
   "version": "2.7.6"
  }
 },
 "nbformat": 4,
 "nbformat_minor": 5
}
